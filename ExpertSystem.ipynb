{
  "nbformat": 4,
  "nbformat_minor": 0,
  "metadata": {
    "colab": {
      "provenance": [],
      "authorship_tag": "ABX9TyNBZ28R/XQLDhTTqJEUhRzd",
      "include_colab_link": true
    },
    "kernelspec": {
      "name": "python3",
      "display_name": "Python 3"
    },
    "language_info": {
      "name": "python"
    }
  },
  "cells": [
    {
      "cell_type": "markdown",
      "metadata": {
        "id": "view-in-github",
        "colab_type": "text"
      },
      "source": [
        "<a href=\"https://colab.research.google.com/github/MosinInamdar/Artificial-Intelligence-SPPU-2019-Pattern/blob/main/ExpertSystem.ipynb\" target=\"_parent\"><img src=\"https://colab.research.google.com/assets/colab-badge.svg\" alt=\"Open In Colab\"/></a>"
      ]
    },
    {
      "cell_type": "code",
      "execution_count": 1,
      "metadata": {
        "colab": {
          "base_uri": "https://localhost:8080/"
        },
        "id": "YuyeAU3VhOzr",
        "outputId": "4b92a828-1d2e-407a-98ea-a32642e6064a"
      },
      "outputs": [
        {
          "output_type": "stream",
          "name": "stdout",
          "text": [
            "Please answer with 'yes' or 'no'.\n",
            "Do you have skin irritaion? yes\n",
            "Do you have chills? yes\n",
            "Do you have fever? Yes\n",
            "Do you have jumbled speech? yes\n",
            "Do you have itchy eyes? yes\n",
            "Do you have hallucination? yes\n",
            "Do you have mood swings? yrs\n",
            "Do you have hives? yes\n",
            "Do you have body aches? yes\n",
            "Do you have irritability? yes\n",
            "Do you have sneezing? yes\n",
            "Do you have swollen airways? yes\n",
            "Do you have fatigue? yes\n",
            "Do you have personality changes? yes\n",
            "Do you have difficulty breathing? yes\n",
            "Do you have memory loss? yes\n",
            "Do you have general discontent? yes\n",
            "Do you have Watering eyes? yes\n",
            "Do you have wheezing? NO\n",
            "Do you have body ache? no\n",
            "Do you have runny nose? no\n",
            "Do you have rash? no\n",
            "Do you have headache? no\n",
            "Do you have Sore throat? yes\n",
            "Do you have nausea? yes\n",
            "Do you have confusion? no\n",
            "Do you have dehydration? yes\n",
            "Do you have loss of appetite? yes\n",
            "Do you have cough? no\n",
            "Do you have shock? yes\n",
            "Do you have sinus pressure? yes\n",
            "Possible diseases:\n",
            "- Alzheimer's Disease (Match Percentage: 78%)\n",
            "- Common Cold (Match Percentage: 67%)\n",
            "- Influenza (Match Percentage: 90%)\n",
            "- Allergies (Match Percentage: 75%)\n"
          ]
        }
      ],
      "source": [
        "# Define diseases and their associated symptoms\n",
        "diseases = {\n",
        "    \"Alzheimer's Disease\": ['memory_loss', 'confusion', 'irritability', 'personality_changes', 'mood_swings', 'hallucination', 'loss_of_appetite', 'jumbled_speech', 'general_discontent'],\n",
        "    \"Common Cold\": ['runny_nose', 'sneezing', 'Sore_throat', 'Watering_eyes', 'fever', 'sinus_pressure', 'headache', 'fatigue', 'body_ache'],\n",
        "    \"Influenza\": ['fever', 'body_aches', 'chills', 'sneezing', 'Sore_throat', 'Watering_eyes', 'sinus_pressure', 'headache', 'fatigue', 'dehydration'],\n",
        "    \"Allergies\": ['itchy_eyes', 'rash', 'hives', 'fever', 'swollen_airways', 'skin_irritaion', 'shock', 'sneezing', 'wheezing', 'difficulty_breathing', 'cough', 'nausea'],\n",
        "    # Add more diseases and associated symptoms as needed\n",
        "}\n",
        "\n",
        "def diagnose(symptoms, threshold=0.6):\n",
        "    possible_diseases = []\n",
        "    for disease, disease_symptoms in diseases.items():\n",
        "        matching_symptoms = sum(symptom in symptoms for symptom in disease_symptoms)\n",
        "        match_percentage = matching_symptoms / len(disease_symptoms)\n",
        "        if match_percentage >= threshold:\n",
        "            possible_diseases.append((disease, match_percentage))\n",
        "\n",
        "    return possible_diseases\n",
        "\n",
        "# Function to prompt user for symptoms\n",
        "def get_symptoms():\n",
        "    symptoms = set()\n",
        "    print(\"Please answer with 'yes' or 'no'.\")\n",
        "\n",
        "    for symptom in all_symptoms:\n",
        "        answer = input(f\"Do you have {symptom.replace('_', ' ')}? \").strip().lower()\n",
        "        if answer == 'yes':\n",
        "            symptoms.add(symptom)\n",
        "\n",
        "    return symptoms\n",
        "\n",
        "if __name__ == \"__main__\":\n",
        "    # Get all symptoms\n",
        "    all_symptoms = set()\n",
        "    for symptoms_list in diseases.values():\n",
        "        all_symptoms.update(symptoms_list)\n",
        "\n",
        "    # Prompt user for symptoms\n",
        "    input_symptoms = get_symptoms()\n",
        "\n",
        "    # Get diagnosis\n",
        "    possible_diseases = diagnose(input_symptoms)\n",
        "\n",
        "    if possible_diseases:\n",
        "        print(\"Possible diseases:\")\n",
        "        for disease, match_percentage in possible_diseases:\n",
        "            print(f\"- {disease} (Match Percentage: {match_percentage:.0%})\")\n",
        "    else:\n",
        "        print(\"No matching diseases found.\")\n"
      ]
    }
  ]
}