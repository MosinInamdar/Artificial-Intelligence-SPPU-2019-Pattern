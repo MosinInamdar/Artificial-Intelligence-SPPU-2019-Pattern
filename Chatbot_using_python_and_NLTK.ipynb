{
  "nbformat": 4,
  "nbformat_minor": 0,
  "metadata": {
    "colab": {
      "provenance": [],
      "authorship_tag": "ABX9TyMuI1wNKCotEyeP++y/EQx2",
      "include_colab_link": true
    },
    "kernelspec": {
      "name": "python3",
      "display_name": "Python 3"
    },
    "language_info": {
      "name": "python"
    }
  },
  "cells": [
    {
      "cell_type": "markdown",
      "metadata": {
        "id": "view-in-github",
        "colab_type": "text"
      },
      "source": [
        "<a href=\"https://colab.research.google.com/github/MosinInamdar/Artificial-Intelligence-SPPU-2019-Pattern/blob/main/Chatbot_using_python_and_NLTK.ipynb\" target=\"_parent\"><img src=\"https://colab.research.google.com/assets/colab-badge.svg\" alt=\"Open In Colab\"/></a>"
      ]
    },
    {
      "cell_type": "code",
      "execution_count": null,
      "metadata": {
        "id": "2SSeDc1ZHXlp"
      },
      "outputs": [],
      "source": [
        "import numpy as np\n",
        "import nltk\n",
        "import string\n",
        "import random"
      ]
    },
    {
      "cell_type": "code",
      "source": [
        "f = open('/content/Trade.txt','r',errors='ignore')\n",
        "raw_doc = f.read()"
      ],
      "metadata": {
        "id": "qHyxER_nIF_W"
      },
      "execution_count": null,
      "outputs": []
    },
    {
      "cell_type": "code",
      "source": [
        "raw_doc = raw_doc.lower()\n",
        "nltk.download('punkt')\n",
        "nltk.download('wordnet')\n",
        "nltk.download('omw-1.4')\n",
        "sentence_tokens = nltk.sent_tokenize(raw_doc)\n",
        "word_tokens = nltk.word_tokenize(raw_doc)"
      ],
      "metadata": {
        "colab": {
          "base_uri": "https://localhost:8080/"
        },
        "id": "B7-XwunbIUNa",
        "outputId": "d73ec4b6-0aa2-4eed-bbc0-049d7435d096"
      },
      "execution_count": null,
      "outputs": [
        {
          "output_type": "stream",
          "name": "stderr",
          "text": [
            "[nltk_data] Downloading package punkt to /root/nltk_data...\n",
            "[nltk_data]   Unzipping tokenizers/punkt.zip.\n",
            "[nltk_data] Downloading package wordnet to /root/nltk_data...\n",
            "[nltk_data] Downloading package omw-1.4 to /root/nltk_data...\n"
          ]
        }
      ]
    },
    {
      "cell_type": "code",
      "source": [
        "sentence_tokens[:5]"
      ],
      "metadata": {
        "colab": {
          "base_uri": "https://localhost:8080/"
        },
        "id": "Xn9AYpYOJ0rX",
        "outputId": "d5eae991-8b8f-449b-ec1f-2820b7777de5"
      },
      "execution_count": null,
      "outputs": [
        {
          "output_type": "execute_result",
          "data": {
            "text/plain": [
              "[\"how to trade stocks\\nwant to trade but don't know where to start?\",\n",
              " 'by alan farley updated december 16, 2023\\nreviewed by samantha silberstein\\nfact checked by kirsten rohrs schmitt\\nmillions of neophytes try their hand at the market casino each year, but most walk away a little poorer and a lot wiser, having never reached their full potential.',\n",
              " \"the majority of those who fail have one thing in common: they haven't mastered the basic skills needed to tilt the odds in their favor.\",\n",
              " \"however, if one takes adequate time to learn them, it's possible to be on the way to increasing one's odds of success.\",\n",
              " 'world markets attract speculative capital like moths to a flame; most people throw money at securities without understanding why prices move higher or lower.']"
            ]
          },
          "metadata": {},
          "execution_count": 4
        }
      ]
    },
    {
      "cell_type": "code",
      "source": [
        "word_tokens[:5]"
      ],
      "metadata": {
        "colab": {
          "base_uri": "https://localhost:8080/"
        },
        "id": "X6t07ZGMJ4n_",
        "outputId": "1479de6c-9654-426e-faef-1c5cf8f1f8df"
      },
      "execution_count": null,
      "outputs": [
        {
          "output_type": "execute_result",
          "data": {
            "text/plain": [
              "['how', 'to', 'trade', 'stocks', 'want']"
            ]
          },
          "metadata": {},
          "execution_count": 5
        }
      ]
    },
    {
      "cell_type": "code",
      "source": [
        "lemmer = nltk.stem.WordNetLemmatizer()\n",
        "def LemTokens(tokens):\n",
        "  return [lemmer.lemmatize(token) for token in tokens]\n",
        "remove_punc_dict = str.maketrans('', '', string.punctuation)\n",
        "\n",
        "def LemNormalize(text):\n",
        "  # Lowercase and remove punctuation\n",
        "    text_no_punctuation = text.lower().translate(remove_punc_dict)\n",
        "    # Tokenize\n",
        "    tokens = nltk.word_tokenize(text_no_punctuation)\n",
        "    # Lemmatize\n",
        "    return LemTokens(tokens)"
      ],
      "metadata": {
        "id": "eoGpIEtJKA9I"
      },
      "execution_count": null,
      "outputs": []
    },
    {
      "cell_type": "code",
      "source": [
        "greet_inputs = ('hi','hey','whatsup','how are you?','hello')\n",
        "greet_responses = ('Hi','Hey','Hey there!','There there!!')\n",
        "def greet(sentence):\n",
        "  for word in sentence.split():\n",
        "    if word.lower() in greet_inputs:\n",
        "      return random.choice(greet_responses)"
      ],
      "metadata": {
        "id": "dAZg-xoNLhp4"
      },
      "execution_count": null,
      "outputs": []
    },
    {
      "cell_type": "code",
      "source": [
        "from sklearn.feature_extraction.text import TfidfVectorizer\n",
        "from sklearn.metrics.pairwise import cosine_similarity"
      ],
      "metadata": {
        "id": "FvtAl3TIMI9w"
      },
      "execution_count": null,
      "outputs": []
    },
    {
      "cell_type": "code",
      "source": [
        "def response(user_response):\n",
        "  robo1_response = ''\n",
        "  TfidfVec = TfidfVectorizer(tokenizer = LemNormalize, stop_words = 'english')\n",
        "  tfidf = TfidfVec.fit_transform(sentence_tokens)\n",
        "  vals = cosine_similarity(tfidf[-1],tfidf)\n",
        "  idx = vals.argsort()[0][-2]\n",
        "  flat = vals.flatten()\n",
        "  flat.sort()\n",
        "  req_tfidf = flat[-2]\n",
        "  if (req_tfidf == 0):\n",
        "    robo1_response = robo1_response + 'I am sorry. Unable to understand you!'\n",
        "    return robo1_response\n",
        "  else:\n",
        "    robo1_response = robo1_response + sentence_tokens[idx]\n",
        "    return robo1_response"
      ],
      "metadata": {
        "id": "P-MYFFRvM2qI"
      },
      "execution_count": null,
      "outputs": []
    },
    {
      "cell_type": "code",
      "source": [
        "flag = True\n",
        "print('Welcome to my first every chatbot. I have some knowledge regarding trading. Feel free to chat. To quite type bye')\n",
        "while flag == True:\n",
        "  user_response = input()\n",
        "  user_response = user_response.lower()\n",
        "  if ( user_response != 'bye'):\n",
        "    if ( user_response == 'Thankyou' or user_response == 'Thanks'):\n",
        "      flag = False\n",
        "      print(\"Bot: Your Welcome.\")\n",
        "    else:\n",
        "      if(greet(user_response) != None):\n",
        "        print(\"Bot: \",greet(user_response))\n",
        "      else:\n",
        "        sentence_tokens.append(user_response)\n",
        "        word_tokens = word_tokens + nltk.word_tokenize(user_response)\n",
        "        final_words = list(set(word_tokens))\n",
        "        print(\"Bot: \",end='')\n",
        "        print(response(user_response))\n",
        "        sentence_tokens.remove(user_response)\n",
        "  else:\n",
        "      flag=False\n",
        "      print(\"Bot: Goodbye!\")\n"
      ],
      "metadata": {
        "colab": {
          "base_uri": "https://localhost:8080/"
        },
        "id": "yBy0nGDDPIt0",
        "outputId": "d01f7267-cc6e-4de9-b13b-fc953c0cb381"
      },
      "execution_count": null,
      "outputs": [
        {
          "output_type": "stream",
          "name": "stdout",
          "text": [
            "Welcome to my first every chatbot. I have some knowledge regarding trading. Feel free to chat. To quite type bye\n",
            "hey\n",
            "Bot:  Hi\n",
            "tell me about trade\n",
            "Bot: "
          ]
        },
        {
          "output_type": "stream",
          "name": "stderr",
          "text": [
            "/usr/local/lib/python3.10/dist-packages/sklearn/feature_extraction/text.py:528: UserWarning: The parameter 'token_pattern' will not be used since 'tokenizer' is not None'\n",
            "  warnings.warn(\n",
            "/usr/local/lib/python3.10/dist-packages/sklearn/feature_extraction/text.py:409: UserWarning: Your stop_words may be inconsistent with your preprocessing. Tokenizing the stop words generated tokens ['ha', 'le', 'u', 'wa'] not in stop_words.\n",
            "  warnings.warn(\n"
          ]
        },
        {
          "output_type": "stream",
          "name": "stdout",
          "text": [
            "tell me about trade\n",
            "how to open trade account\n",
            "Bot: can you help me with open trading account\n",
            "Learn to Read: A Market Crash Course\n",
            "Bot: 2. learn to read: a market crash course\n",
            "financial articles, stock market books, website tutorials, etc.\n",
            "Learn to Analyze\n",
            "Bot: 3. learn to analyze\n",
            "study the basics of technical analysis and look at price charts—thousands of them—in all time frames.\n",
            "bye\n",
            "Bot: Goodbye!\n"
          ]
        }
      ]
    },
    {
      "cell_type": "code",
      "source": [],
      "metadata": {
        "id": "Here-lWHSKhJ"
      },
      "execution_count": null,
      "outputs": []
    }
  ]
}